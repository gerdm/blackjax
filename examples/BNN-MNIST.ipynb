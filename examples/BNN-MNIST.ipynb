{
 "cells": [
  {
   "cell_type": "markdown",
   "id": "c1bcc20a-36a6-4df9-8a3c-ee17370f8b52",
   "metadata": {},
   "source": [
    "# Convolutional Bayesian Neural Network"
   ]
  },
  {
   "cell_type": "code",
   "execution_count": 162,
   "id": "86cb2cd7-3d0b-48ce-9d5e-b6b63a5cc648",
   "metadata": {},
   "outputs": [],
   "source": [
    "import jax\n",
    "import blackjax\n",
    "import distrax\n",
    "import optax\n",
    "import flax.linen as nn\n",
    "import jax.numpy as jnp\n",
    "import matplotlib.pyplot as plt\n",
    "from functools import partial\n",
    "from flax.traing import train_step\n",
    "from tqdm.notebook import tqdm\n",
    "from torchvision.datasets import MNIST\n",
    "from jax.flatten_util import ravel_pytree\n",
    "from blackjax.sgmcmc.gradients import grad_estimator\n",
    "from sklearn.metrics import confusion_matrix"
   ]
  },
  {
   "cell_type": "code",
   "execution_count": 10,
   "id": "6d414f80-648a-4c6a-ab15-a706e25dc197",
   "metadata": {},
   "outputs": [],
   "source": [
    "%config InlineBackend.figure_format = \"retina\"\n",
    "DIR_MNIST = \"/tmp/mnist\""
   ]
  },
  {
   "cell_type": "code",
   "execution_count": 38,
   "id": "75e18112-681b-43e0-9345-5f41d362c506",
   "metadata": {},
   "outputs": [],
   "source": [
    "class CNN(nn.Module):\n",
    "  @nn.compact\n",
    "  def __call__(self, x):\n",
    "    x = nn.Conv(features=32, kernel_size=(3, 3))(x)\n",
    "    x = nn.relu(x)\n",
    "    x = nn.avg_pool(x, window_shape=(2, 2), strides=(2, 2))\n",
    "    x = nn.Conv(features=64, kernel_size=(3, 3))(x)\n",
    "    x = nn.relu(x)\n",
    "    x = nn.avg_pool(x, window_shape=(2, 2), strides=(2, 2))\n",
    "    x = x.reshape((x.shape[0], -1)) \n",
    "    x = nn.Dense(features=256)(x)\n",
    "    x = nn.relu(x)\n",
    "    x = nn.Dense(features=10)(x)\n",
    "\n",
    "    return x"
   ]
  },
  {
   "cell_type": "code",
   "execution_count": 39,
   "id": "387957ec-70cd-4733-bc1c-75d2b77383ac",
   "metadata": {},
   "outputs": [],
   "source": [
    "def logpdf(params, images, categories, model):\n",
    "    logits = model.apply(params, images)\n",
    "    flat_params, _ = ravel_pytree(params)\n",
    "    log_prior = distrax.Normal(0.0, 1.0).log_prob(flat_params).sum()\n",
    "    log_likelihood = distrax.Multinomial(10, logits=logits).log_prob(categories).sum()\n",
    " \n",
    "    return log_prior + log_likelihood"
   ]
  },
  {
   "cell_type": "code",
   "execution_count": 40,
   "id": "6554ceae-f1f7-4cbd-a21f-ff3d663b064d",
   "metadata": {},
   "outputs": [],
   "source": [
    "mnist = MNIST(DIR_MNIST, train=True)"
   ]
  },
  {
   "cell_type": "code",
   "execution_count": 170,
   "id": "00a08b77-3cb1-4dab-9131-baf2f7a8cfe6",
   "metadata": {},
   "outputs": [],
   "source": [
    "num_samples = 2000\n",
    "\n",
    "X_train = jnp.array(mnist.data)\n",
    "X_train = jnp.round(X_train / 255)\n",
    "\n",
    "y_train = jnp.array(mnist.targets)\n",
    "\n",
    "\n",
    "X_train = X_train[:num_samples]\n",
    "y_train = y_train[:num_samples]\n",
    "y_train_ohe = jax.nn.one_hot(y_train, 10)"
   ]
  },
  {
   "cell_type": "code",
   "execution_count": 171,
   "id": "1353443f-8fe0-4833-bc42-536048f9419d",
   "metadata": {},
   "outputs": [
    {
     "data": {
      "image/png": "[encoded data removed]",
      "text/plain": [
       "<Figure size 432x288 with 1 Axes>"
      ]
     },
     "metadata": {
      "image/png": {
       "height": 231,
       "width": 231
      },
      "needs_background": "light"
     },
     "output_type": "display_data"
    }
   ],
   "source": [
    "plt.imshow(X_train[0], cmap=\"bone\")\n",
    "plt.axis(\"off\");"
   ]
  },
  {
   "cell_type": "code",
   "execution_count": 182,
   "id": "b28a0b20-6fd8-4313-8e72-c73beee3b76b",
   "metadata": {},
   "outputs": [],
   "source": [
    "def get_batch_train_ixs(key, num_samples, batch_size):\n",
    "    \"\"\"\n",
    "    Obtain the training indices to be used in an epoch of\n",
    "    mini-batch optimisation.\n",
    "    \"\"\"\n",
    "    steps_per_epoch = num_samples // batch_size\n",
    "    \n",
    "    batch_ixs = jax.random.permutation(key, num_samples)\n",
    "    batch_ixs = batch_ixs[:steps_per_epoch * batch_size]\n",
    "    batch_ixs = batch_ixs.reshape(steps_per_epoch, batch_size)\n",
    "    \n",
    "    return batch_ixs\n",
    "\n",
    "\n",
    "def sgd_train_step(state, X_batch, y_batch, loss_fn):\n",
    "    \"\"\"\n",
    "    Apply jax.jit after defining partial function\n",
    "    with loss_fn specified, i.e., \n",
    "    part_loss_fn = partial(loss_fn, X=X_batch)\n",
    "    part_sgd_train_step = partial(sgd_train_step, loss_fn=part_loss_fn)\n",
    "    part_sgd_train_step = jax.jit(part_sgd_train_step)\n",
    "    \n",
    "    Parameters\n",
    "    ----------\n",
    "    loss_fn: function\n",
    "        Function taking: params, X, model\n",
    "    \"\"\"\n",
    "    loss_fn = partial(loss_fn, X=X_batch, y=y_batch)\n",
    "    loss, grads = jax.value_and_grad(loss_fn)(state.params)\n",
    "    new_state = state.apply_gradients(grads=grads)\n",
    "    return loss, new_state\n",
    "\n",
    "\n",
    "def train_epoch(key, state, X, y, batch_size, epoch, model, train_step):\n",
    "    num_samples = len(X)\n",
    "    batch_ixs = get_batch_train_ixs(key, num_samples, batch_size)\n",
    "    total_loss = 0\n",
    "    for batch_ix in batch_ixs:\n",
    "        X_batch = X[batch_ix, ...]\n",
    "        y_batch = y[batch_ix, ...]\n",
    "        loss, state = train_step(state, X_batch, y_batch)\n",
    "        total_loss += loss\n",
    "    \n",
    "    return total_loss.item(), state"
   ]
  },
  {
   "cell_type": "code",
   "execution_count": 183,
   "id": "f10e038b-8be0-4e1e-b796-4e7df4ef3412",
   "metadata": {},
   "outputs": [],
   "source": [
    "def loss_fn(params, X, y, model):\n",
    "    logits = model.apply(params, X[..., None])\n",
    "    loss = optax.softmax_cross_entropy(logits, y)\n",
    "    \n",
    "    return loss.mean()"
   ]
  },
  {
   "cell_type": "code",
   "execution_count": 184,
   "id": "077ce2f3-224d-4710-b9a7-e21f4675164c",
   "metadata": {},
   "outputs": [],
   "source": [
    "key = jax.random.PRNGKey(314)\n",
    "key_params_init, key_train, key = jax.random.split(key, 3)"
   ]
  },
  {
   "cell_type": "code",
   "execution_count": 185,
   "id": "0080716d-6a01-4599-85ef-08b1875c311c",
   "metadata": {},
   "outputs": [],
   "source": [
    "alpha = 5e-4\n",
    "model = CNN()\n",
    "tx = optax.adam(learning_rate=alpha)\n",
    "batch_size = 200\n",
    "_, *dim_observed = X_train.shape\n",
    "num_channels = 1\n",
    "params_init = model.init(key_params_init, jnp.ones((batch_size, *dim_observed, num_channels)))"
   ]
  },
  {
   "cell_type": "code",
   "execution_count": 186,
   "id": "838172a9-0809-47c3-893f-9f3632665a92",
   "metadata": {},
   "outputs": [],
   "source": [
    "loss_fn(params_init, X_train[:5], y_train_ohe[:5], model)\n",
    "loss_fn_part = partial(loss_fn, model=model)\n",
    "\n",
    "state = train_state.TrainState.create(\n",
    "    apply_fn=model.apply,\n",
    "    params=params_init,\n",
    "    tx=tx\n",
    ")"
   ]
  },
  {
   "cell_type": "code",
   "execution_count": 187,
   "id": "4b79b633-20b9-4044-b065-9ff34d5dffbc",
   "metadata": {},
   "outputs": [],
   "source": [
    "train_step = partial(sgd_train_step, loss_fn=loss_fn_part)"
   ]
  },
  {
   "cell_type": "code",
   "execution_count": null,
   "id": "1180cca7-635c-4485-856e-f420ebf432ba",
   "metadata": {},
   "outputs": [],
   "source": [
    "batch_size = 1000\n",
    "n_epochs = 500\n",
    "keys_train = jax.random.split(key_train, n_epochs)\n",
    "\n",
    "loss_hist = []\n",
    "params_hist = []\n",
    "pbar = tqdm(enumerate(keys_train), total=len(keys_train))\n",
    "for e, key_train in pbar:\n",
    "    loss, state = train_epoch(key_train, state, X_train, y_train_ohe, batch_size, e, model, train_step)\n",
    "    loss_hist.append(loss)\n",
    "    pbar.set_description(f\"{loss=:0.4e}\")\n",
    "    if e % 100 == 0:\n",
    "        params_hist.append(state.params)"
   ]
  },
  {
   "cell_type": "code",
   "execution_count": 189,
   "id": "f6da406a-cb3d-4bfd-bb83-4a860f6007b2",
   "metadata": {},
   "outputs": [
    {
     "data": {
      "text/plain": [
       "[<matplotlib.lines.Line2D at 0x7fd1a6e426a0>]"
      ]
     },
     "execution_count": 189,
     "metadata": {},
     "output_type": "execute_result"
    },
    {
     "data": {
      "image/png": "[encoded data removed]",
      "text/plain": [
       "<Figure size 432x288 with 1 Axes>"
      ]
     },
     "metadata": {
      "image/png": {
       "height": 248,
       "width": 364
      },
      "needs_background": "light"
     },
     "output_type": "display_data"
    }
   ],
   "source": [
    "plt.plot(loss_hist)"
   ]
  },
  {
   "cell_type": "markdown",
   "id": "9f2702b8-8f16-41f1-84bf-b17e62682e48",
   "metadata": {},
   "source": [
    "## Testing model"
   ]
  },
  {
   "cell_type": "code",
   "execution_count": 190,
   "id": "28ff5c42-8791-4092-964b-c168e1a902e7",
   "metadata": {},
   "outputs": [],
   "source": [
    "mnist_test = MNIST(DIR_MNIST, train=False)\n",
    "\n",
    "X_test = jnp.array(mnist_test.data)\n",
    "X_test = jnp.round(X_test / 255)\n",
    "\n",
    "y_test = jnp.array(mnist_test.targets)\n",
    "y_test_ohe = jax.nn.one_hot(y_test, 10)"
   ]
  },
  {
   "cell_type": "code",
   "execution_count": 191,
   "id": "107b3760-803f-45f4-8f0a-e4d2113b6601",
   "metadata": {},
   "outputs": [],
   "source": [
    "yhat_test = model.apply(state.params, X_test[..., None]).argmax(axis=1)"
   ]
  },
  {
   "cell_type": "code",
   "execution_count": 192,
   "id": "e53d4d4c-6e0f-40c8-bb70-e9e99b301552",
   "metadata": {},
   "outputs": [
    {
     "data": {
      "text/plain": [
       "array([[ 958,    0,    3,    1,    2,    0,   12,    1,    1,    2],\n",
       "       [   1, 1121,    4,    1,    0,    1,    3,    1,    2,    1],\n",
       "       [   6,    1,  978,   12,    6,    1,    4,    7,   15,    2],\n",
       "       [   0,    0,   12,  962,    0,   13,    0,   10,    9,    4],\n",
       "       [   1,    3,    2,    0,  939,    0,    4,    1,    3,   29],\n",
       "       [   4,    2,    0,   10,    1,  854,    8,    1,    6,    6],\n",
       "       [  11,    3,    4,    0,    5,    9,  919,    0,    7,    0],\n",
       "       [   0,    4,   22,    9,    4,    0,    0,  971,    3,   15],\n",
       "       [   9,    2,    9,   14,   13,    8,    6,    8,  891,   14],\n",
       "       [   3,    5,    4,    5,    6,   10,    0,   12,    2,  962]])"
      ]
     },
     "execution_count": 192,
     "metadata": {},
     "output_type": "execute_result"
    }
   ],
   "source": [
    "confusion_matrix(y_test, yhat_test)"
   ]
  },
  {
   "cell_type": "code",
   "execution_count": 194,
   "id": "bbd09be9-9a04-433d-a7d4-043863aa0f3c",
   "metadata": {},
   "outputs": [
    {
     "data": {
      "text/plain": [
       "DeviceArray(0.95549995, dtype=float32)"
      ]
     },
     "execution_count": 194,
     "metadata": {},
     "output_type": "execute_result"
    }
   ],
   "source": [
    "(y_test == yhat_test).mean()"
   ]
  },
  {
   "cell_type": "markdown",
   "id": "2cab0132-3f8a-43ff-ade6-9644e9f197bb",
   "metadata": {},
   "source": [
    "## SGLD"
   ]
  },
  {
   "cell_type": "code",
   "execution_count": 163,
   "id": "3d74e27e-bab9-484b-9053-2d6e07af4185",
   "metadata": {},
   "outputs": [],
   "source": [
    "def model_log_prior(params, model):\n",
    "    flatten_params, _ = ravel_pytree(params)\n",
    "    log_prior = distrax.Normal(0.0, 1.0).log_prob(flatten_params).sum()\n",
    "    return log_prior\n",
    "\n",
    "\n",
    "def model_log_likelihood(params, data, model):\n",
    "    X, y = data\n",
    "    logits = model.apply(params, X)\n",
    "    log_likelihood = distrax.Multinomial(10, logits=logits).log_prob(y).sum()\n",
    "    return log_likelihood\n"
   ]
  },
  {
   "cell_type": "code",
   "execution_count": 164,
   "id": "7838cae2-b723-4ea7-913c-acb3dfaca8b7",
   "metadata": {},
   "outputs": [],
   "source": [
    "part_log_likelihood = partial(model_log_likelihood, model=model)\n",
    "part_log_prior = partial(model_log_prior, model=model)"
   ]
  },
  {
   "cell_type": "code",
   "execution_count": 165,
   "id": "56ba9fc3-67e1-467c-a4ec-dd8bd59f0ed0",
   "metadata": {},
   "outputs": [],
   "source": [
    "data_size = len(y_train)\n",
    "step_size = 1e-5\n",
    "\n",
    "num_warmup = 200\n",
    "num_samples = 800\n",
    "\n",
    "\n",
    "\n",
    "# Build the SGLD kernel\n",
    "schedule_fn = lambda _: step_size  # constant step size\n",
    "grad_fn = grad_estimator(part_log_prior, part_log_likelihood, data_size)\n",
    "sgld = blackjax.sgld(grad_fn, schedule_fn)"
   ]
  },
  {
   "cell_type": "code",
   "execution_count": null,
   "id": "435d75bb-a57c-4382-baf8-f182d08661ab",
   "metadata": {},
   "outputs": [],
   "source": [
    "def sgld_train_step(state, X_batch, y_batch, loss_fn):\n",
    "    \"\"\"\n",
    "    Apply jax.jit after defining partial function\n",
    "    with loss_fn specified, i.e., \n",
    "    part_loss_fn = partial(loss_fn, X=X_batch)\n",
    "    part_sgd_train_step = partial(sgd_train_step, loss_fn=part_loss_fn)\n",
    "    part_sgd_train_step = jax.jit(part_sgd_train_step)\n",
    "    \n",
    "    Parameters\n",
    "    ----------\n",
    "    loss_fn: function\n",
    "        Function taking: params, X, model\n",
    "    \"\"\"\n",
    "    loss_fn = partial(loss_fn, X=X_batch, y=y_batch)\n",
    "    loss, grads = jax.value_and_grad(loss_fn)(state.params)\n",
    "    new_state = state.apply_gradients(grads=grads)\n",
    "    return loss, new_state\n",
    "\n",
    "\n",
    "def train_epoch(key, state, X, y, batch_size, epoch, model, train_step):\n",
    "    num_samples = len(X)\n",
    "    batch_ixs = get_batch_train_ixs(key, num_samples, batch_size)\n",
    "    total_loss = 0\n",
    "    for batch_ix in batch_ixs:\n",
    "        X_batch = X[batch_ix, ...]\n",
    "        y_batch = y[batch_ix, ...]\n",
    "        loss, state = sgd_train_step(state, X_batch, y_batch)\n",
    "        total_loss += loss\n",
    "    \n",
    "    return total_loss.item(), state"
   ]
  }
 ],
 "metadata": {
  "kernelspec": {
   "display_name": "Python 3 (ipykernel)",
   "language": "python",
   "name": "python3"
  },
  "language_info": {
   "codemirror_mode": {
    "name": "ipython",
    "version": 3
   },
   "file_extension": ".py",
   "mimetype": "text/x-python",
   "name": "python",
   "nbconvert_exporter": "python",
   "pygments_lexer": "ipython3",
   "version": "3.9.7"
  }
 },
 "nbformat": 4,
 "nbformat_minor": 5
}
